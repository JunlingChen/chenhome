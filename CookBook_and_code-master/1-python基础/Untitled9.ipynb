{
 "cells": [
  {
   "cell_type": "code",
   "execution_count": 13,
   "metadata": {},
   "outputs": [
    {
     "name": "stdout",
     "output_type": "stream",
     "text": [
      "[1, 2, 4, 3, 5, 9, 2, 4, 5, 3]\n",
      "<class 'list'>\n",
      "{1, 2, 3, 4, 5, 9}\n",
      "<class 'set'>\n",
      "1\n",
      "[1, 2, 4, 3, 5, 9, 2, 4, 5, 3]\n",
      "**********\n",
      "2\n",
      "a1是个重复项，数值为2\n",
      "[2]\n",
      "[1, 2, 4, 3, 5, 9, 2, 4, 5, 3]\n",
      "**********\n",
      "4\n",
      "a2是个重复项，数值为4\n",
      "[2, 4]\n",
      "[1, 2, 4, 3, 5, 9, 2, 4, 5, 3]\n",
      "**********\n",
      "3\n",
      "a3是个重复项，数值为3\n",
      "[2, 4, 3]\n",
      "[1, 2, 4, 3, 5, 9, 2, 4, 5, 3]\n",
      "**********\n",
      "5\n",
      "a4是个重复项，数值为5\n",
      "[2, 4, 3, 5]\n",
      "[1, 2, 4, 3, 5, 9, 2, 4, 5, 3]\n",
      "**********\n",
      "9\n",
      "[1, 2, 4, 3, 5, 9, 2, 4, 5, 3]\n",
      "**********\n",
      "2\n",
      "[1, 2, 4, 3, 5, 9, 2, 4, 5, 3]\n",
      "**********\n",
      "4\n",
      "[1, 2, 4, 3, 5, 9, 2, 4, 5, 3]\n",
      "**********\n",
      "5\n",
      "[1, 2, 4, 3, 5, 9, 2, 4, 5, 3]\n",
      "**********\n",
      "3\n",
      "[1, 2, 4, 3, 5, 9, 2, 4, 5, 3]\n",
      "**********\n"
     ]
    }
   ],
   "source": [
    "a = [1, 2, 4, 3, 5, 9, 2, 4, 5, 3]\n",
    "b=set(a)\n",
    "print(a)\n",
    "print(type(a))\n",
    "print(b)\n",
    "print(type(b))\n",
    "\n",
    "index = 0\n",
    "e = []\n",
    "while index<len(a):\n",
    "    c = a[index]\n",
    "    print(c)\n",
    "    del(a[index])\n",
    "    d = set(a)\n",
    "    if len(b) == len(d):\n",
    "        if c not in e:\n",
    "            e.append(c)\n",
    "            print(\"a{0}是个重复项，数值为{1}\".format(index,c))\n",
    "            print(e)\n",
    "    \n",
    "    a.insert(index,c)\n",
    "    print(a)\n",
    "    print(\"*\"*10)\n",
    "    index+=1\n",
    "    \n"
   ]
  },
  {
   "cell_type": "code",
   "execution_count": 11,
   "metadata": {},
   "outputs": [
    {
     "name": "stdout",
     "output_type": "stream",
     "text": [
      "<class 'list'>\n"
     ]
    }
   ],
   "source": [
    "e = []\n",
    "print(type(e))"
   ]
  },
  {
   "cell_type": "code",
   "execution_count": 20,
   "metadata": {},
   "outputs": [
    {
     "name": "stdout",
     "output_type": "stream",
     "text": [
      "{'one': 1, 'two': 2, 'three': 3}\n",
      "<class 'dict'>\n",
      "626741605864\n",
      "dict_values([1, 2, 3])\n",
      "<class 'dict_values'>\n",
      "626744402952\n",
      "dict_keys(['one', 'two', 'three'])\n",
      "<class 'dict_keys'>\n",
      "626744403192\n",
      "['one', 'two', 'three']\n",
      "<class 'list'>\n",
      "626741585992\n"
     ]
    }
   ],
   "source": [
    "d = {\"one\":1, \"two\":2, \"three\":3}\n",
    "print(d)\n",
    "print(type(d))\n",
    "print(id(d))\n",
    "v = d.values()\n",
    "print(v)\n",
    "print(type(v))\n",
    "print(id(v))\n",
    "k = d.keys()\n",
    "\n",
    "print(k)\n",
    "print(type(k))\n",
    "print(id(k))\n",
    "key = list(k)\n",
    "print(key)\n",
    "print(type(key))\n",
    "print(id(key))\n",
    "\n"
   ]
  },
  {
   "cell_type": "code",
   "execution_count": 5,
   "metadata": {},
   "outputs": [
    {
     "name": "stdout",
     "output_type": "stream",
     "text": [
      "{'__module__': '__main__', 'name': 'chenjun', 'age': 18, '__dict__': <attribute '__dict__' of 'Students' objects>, '__weakref__': <attribute '__weakref__' of 'Students' objects>, '__doc__': None}\n",
      "{}\n",
      "chenjun\n",
      "zhouhuan\n"
     ]
    }
   ],
   "source": [
    "class Students():\n",
    "    name = \"chenjun\"\n",
    "    age = 18\n",
    "Students.__dict__\n",
    "a = Students()\n",
    "a.__dict__\n",
    "print(Students.__dict__)\n",
    "print(a.__dict__)\n",
    "print(a.name)\n",
    "a.name = \"zhouhuan\"\n",
    "print(a.name)"
   ]
  },
  {
   "cell_type": "code",
   "execution_count": 9,
   "metadata": {},
   "outputs": [
    {
     "name": "stdout",
     "output_type": "stream",
     "text": [
      "chenjun\n",
      "18\n",
      "865031407016\n",
      "140708585730336\n",
      "********************\n",
      "chenjun\n",
      "18\n",
      "865031407016\n",
      "140708585730336\n",
      "********************\n",
      "chenjun\n",
      "18\n",
      "865031407016\n",
      "140708585730336\n",
      "********************\n",
      "zhouhuan\n",
      "19\n",
      "865029073840\n",
      "140708585730368\n",
      "********************\n",
      "chenjun\n",
      "18\n",
      "865031407016\n",
      "140708585730336\n"
     ]
    }
   ],
   "source": [
    "class A():\n",
    "    name = \"chenjun\"\n",
    "    age = 18\n",
    "    def a(self):\n",
    "        pass\n",
    "print(A.name)\n",
    "print(A.age)\n",
    "print(id(A.name))\n",
    "print(id(A.age))\n",
    "\n",
    "print(\"*\"*20)\n",
    "\n",
    "B = A()\n",
    "\n",
    "print(B.name)\n",
    "print(B.age)\n",
    "print(id(B.name))\n",
    "print(id(B.age))\n",
    "\n",
    "print(\"*\"*20)\n",
    "\n",
    "C = A()\n",
    "\n",
    "print(C.name)\n",
    "print(C.age)\n",
    "print(id(C.name))\n",
    "print(id(C.age))\n",
    "\n",
    "B.name = \"zhouhuan\"\n",
    "B.age = 19\n",
    "\n",
    "print(\"*\"*20)\n",
    "print(B.name)\n",
    "print(B.age)\n",
    "print(id(B.name))\n",
    "print(id(B.age))\n",
    "\n",
    "print(\"*\"*20)\n",
    "\n",
    "print(A.name)\n",
    "print(A.age)\n",
    "print(id(A.name))\n",
    "print(id(A.age))\n",
    "        "
   ]
  },
  {
   "cell_type": "code",
   "execution_count": 2,
   "metadata": {
    "scrolled": true
   },
   "outputs": [
    {
     "name": "stdout",
     "output_type": "stream",
     "text": [
      "hello\n",
      "********************\n",
      "neo\n",
      "male\n",
      "hello2\n",
      "neo\n",
      "male\n"
     ]
    }
   ],
   "source": [
    "class testClass (object):\n",
    "    def __init__(self, name, gender):\n",
    "        self.Name = name\n",
    "        self.Gender = gender\n",
    "        print ('hello')\n",
    "        print (\"*\"*20)\n",
    "\n",
    "\n",
    "testman = testClass ('neo', 'male')\n",
    "print (testman.Name)\n",
    "print (testman.Gender)\n",
    "\n",
    "\n",
    "class tetsClass2 (object):\n",
    "    def __init__(me, name, gender):\n",
    "        me.name = name\n",
    "        me.gender = gender\n",
    "        print (\"hello2\")\n",
    "testman2 = tetsClass2 ('neo', 'male')\n",
    "print (testman2.name)\n",
    "print (testman2.gender)"
   ]
  },
  {
   "cell_type": "code",
   "execution_count": 1,
   "metadata": {},
   "outputs": [
    {
     "name": "stdout",
     "output_type": "stream",
     "text": [
      "{'__repr__': <slot wrapper '__repr__' of 'object' objects>, '__hash__': <slot wrapper '__hash__' of 'object' objects>, '__str__': <slot wrapper '__str__' of 'object' objects>, '__getattribute__': <slot wrapper '__getattribute__' of 'object' objects>, '__setattr__': <slot wrapper '__setattr__' of 'object' objects>, '__delattr__': <slot wrapper '__delattr__' of 'object' objects>, '__lt__': <slot wrapper '__lt__' of 'object' objects>, '__le__': <slot wrapper '__le__' of 'object' objects>, '__eq__': <slot wrapper '__eq__' of 'object' objects>, '__ne__': <slot wrapper '__ne__' of 'object' objects>, '__gt__': <slot wrapper '__gt__' of 'object' objects>, '__ge__': <slot wrapper '__ge__' of 'object' objects>, '__init__': <slot wrapper '__init__' of 'object' objects>, '__new__': <built-in method __new__ of type object at 0x00007FF9523EEA20>, '__reduce_ex__': <method '__reduce_ex__' of 'object' objects>, '__reduce__': <method '__reduce__' of 'object' objects>, '__subclasshook__': <method '__subclasshook__' of 'object' objects>, '__init_subclass__': <method '__init_subclass__' of 'object' objects>, '__format__': <method '__format__' of 'object' objects>, '__sizeof__': <method '__sizeof__' of 'object' objects>, '__dir__': <method '__dir__' of 'object' objects>, '__class__': <attribute '__class__' of 'object' objects>, '__doc__': 'The most base type'}\n"
     ]
    }
   ],
   "source": [
    "print(object.__dict__)"
   ]
  },
  {
   "cell_type": "code",
   "execution_count": 4,
   "metadata": {},
   "outputs": [
    {
     "name": "stdout",
     "output_type": "stream",
     "text": [
      "389067636592\n",
      "389024675496\n",
      "389067636592\n",
      "389064941920\n"
     ]
    }
   ],
   "source": [
    "class Chen():\n",
    "    father_name = \"Chen XXX\"\n",
    "    mother_name = \"XXX XXX\"\n",
    "    son_name = \"Chen XXX\"\n",
    "    def home():\n",
    "        pass\n",
    "print(id(Chen.father_name))\n",
    "print(id(Chen))\n",
    "a = Chen()\n",
    "print(id(a.father_name))\n",
    "print(id(a))"
   ]
  },
  {
   "cell_type": "code",
   "execution_count": 18,
   "metadata": {},
   "outputs": [
    {
     "name": "stdout",
     "output_type": "stream",
     "text": [
      "140708803899104\n",
      "140708803899104\n",
      "140708803899104\n",
      "{'__module__': '__main__', 'teacher_id': '9527', 'make_test': <function Teacher.make_test at 0x0000005A956E6950>, '__doc__': None}\n",
      "{}\n",
      "0\n",
      "18\n",
      "Sleeping ... ...\n"
     ]
    }
   ],
   "source": [
    "\n",
    "class Person():\n",
    "    name = \"NoName\"\n",
    "    age = 18\n",
    "    __score = 0 # 考试成绩是秘密，只要自己知道\n",
    "    _petname = \"sec\" #小名，是保护的，子类可以用，但不能公用\n",
    "    def sleep(self):\n",
    "        print(\"Sleeping ... ...\")\n",
    "        \n",
    "#父类写在括号内\n",
    "\n",
    "class Teacher(Person):\n",
    "    teacher_id = \"9527\"\n",
    "    def make_test(self):\n",
    "        print(\"attention\")\n",
    "t = Teacher()        \n",
    "print(id(Person._Person__score)) \n",
    "print(id(Teacher._Person__score)) \n",
    "print(id(t._Person__score)) \n",
    "\n",
    "print(Teacher.__dict__)\n",
    "print(t.__dict__)\n",
    "print(t._Person__score)\n",
    "print(t.age)\n",
    "t.sleep()"
   ]
  },
  {
   "cell_type": "code",
   "execution_count": 27,
   "metadata": {},
   "outputs": [
    {
     "name": "stdout",
     "output_type": "stream",
     "text": [
      "140708803899104\n",
      "140708803899104\n",
      "0\n",
      "100\n",
      "{'__module__': '__main__', 'name': 'NoName', 'age': 18, '_Person__score': 0, '_petname': 'sec', '_Person__sleep': <function Person.__sleep at 0x0000005A963A5E18>, '__dict__': <attribute '__dict__' of 'Person' objects>, '__weakref__': <attribute '__weakref__' of 'Person' objects>, '__doc__': None}\n"
     ]
    }
   ],
   "source": [
    "class Person():\n",
    "    name = \"NoName\"\n",
    "    age = 18\n",
    "    __score = 0 # 考试成绩是秘密，只要自己知道\n",
    "    _petname = \"sec\" #小名，是保护的，子类可以用，但不能公用\n",
    "    def __sleep(self):\n",
    "        print(\"Sleeping ... ...\")\n",
    "        \n",
    "#父类写在括号内\n",
    "\n",
    "class Teacher(Person):\n",
    "    teacher_id = \"9527\"\n",
    "    score = 100\n",
    "    def make_test(self):\n",
    "        print(\"attention\")\n",
    "t = Teacher()        \n",
    "print(id(Person._Person__score)) \n",
    "print(id(t._Person__score)) \n",
    "\n",
    "print(t._Person__score)\n",
    "print(t.score)\n",
    "\n",
    "print(Person.__dict__)"
   ]
  },
  {
   "cell_type": "code",
   "execution_count": 34,
   "metadata": {},
   "outputs": [
    {
     "name": "stdout",
     "output_type": "stream",
     "text": [
      "name\n"
     ]
    }
   ],
   "source": [
    "class A():\n",
    "    name = \"name\"\n",
    "class B(A):\n",
    "    pass\n",
    "class C(B):\n",
    "    pass\n",
    "c = C()\n",
    "print(c.name)"
   ]
  },
  {
   "cell_type": "code",
   "execution_count": 1,
   "metadata": {},
   "outputs": [
    {
     "name": "stdout",
     "output_type": "stream",
     "text": [
      "B\n",
      "chenjun\n",
      "chenjun\n",
      "wo gaoxing\n",
      "chenjun\n",
      "name\n"
     ]
    }
   ],
   "source": [
    "global name\n",
    "class A():\n",
    "    mingzi = \"name\"\n",
    "class B(A):\n",
    "    def __init__(self,name):\n",
    "        print(\"B\")\n",
    "        print(name)\n",
    "        name = \"zhouhuan\"\n",
    "class C(B):\n",
    "    def __init__(self,name):\n",
    "        B.__init__(self,name)\n",
    "        print(name)\n",
    "        print(\"wo gaoxing\")\n",
    "        print(name)\n",
    "c = C(\"chenjun\")\n",
    "print(c.mingzi)\n",
    "#print(name)\n",
    "#B.__init__.name"
   ]
  },
  {
   "cell_type": "code",
   "execution_count": 11,
   "metadata": {},
   "outputs": [
    {
     "name": "stdout",
     "output_type": "stream",
     "text": [
      "80\n"
     ]
    }
   ],
   "source": [
    "class Student(object):\n",
    "\n",
    "    @property\n",
    "    def score(self):\n",
    "        return self._score\n",
    "\n",
    "    @score.setter\n",
    "    def score(self, value):\n",
    "        if not isinstance(value, int):\n",
    "            raise ValueError('score must be an integer!')\n",
    "        if value < 0 or value > 100:\n",
    "            raise ValueError('score must between 0 ~ 100!')\n",
    "        self._score = value\n",
    "s = Student()\n",
    "s.score = 80\n",
    "print(s.score)"
   ]
  },
  {
   "cell_type": "code",
   "execution_count": 15,
   "metadata": {},
   "outputs": [
    {
     "name": "stdout",
     "output_type": "stream",
     "text": [
      "{'name': 'chenjun', 'age': 18}\n"
     ]
    }
   ],
   "source": [
    "class Test():\n",
    "    adde = 1\n",
    "    \n",
    "A = Test()\n",
    "A.name = \"chenjun\"\n",
    "A.age = 18\n",
    "print(A.__dict__)"
   ]
  },
  {
   "cell_type": "code",
   "execution_count": 1,
   "metadata": {},
   "outputs": [
    {
     "name": "stdout",
     "output_type": "stream",
     "text": [
      "chenjun\n"
     ]
    }
   ],
   "source": [
    "class Student():\n",
    "    def __init__(self, name):\n",
    "        self._name = name\n",
    "    def __str__(self):\n",
    "        return \"{}\".format(self._name)\n",
    "chen = Student(\"chenjun\")\n",
    "print(chen)"
   ]
  },
  {
   "cell_type": "code",
   "execution_count": 2,
   "metadata": {},
   "outputs": [
    {
     "ename": "SyntaxError",
     "evalue": "unexpected EOF while parsing (<ipython-input-2-9c87f7a85c64>, line 1)",
     "output_type": "error",
     "traceback": [
      "\u001b[1;36m  File \u001b[1;32m\"<ipython-input-2-9c87f7a85c64>\"\u001b[1;36m, line \u001b[1;32m1\u001b[0m\n\u001b[1;33m    @abc.abstractclassmethod\u001b[0m\n\u001b[1;37m                            ^\u001b[0m\n\u001b[1;31mSyntaxError\u001b[0m\u001b[1;31m:\u001b[0m unexpected EOF while parsing\n"
     ]
    }
   ],
   "source": [
    "@abc.abstractclassmethod\n"
   ]
  },
  {
   "cell_type": "code",
   "execution_count": 29,
   "metadata": {},
   "outputs": [
    {
     "name": "stdout",
     "output_type": "stream",
     "text": [
      "['__class__', '__delattr__', '__dict__', '__dir__', '__doc__', '__eq__', '__format__', '__ge__', '__getattribute__', '__gt__', '__hash__', '__init__', '__init_subclass__', '__le__', '__lt__', '__module__', '__ne__', '__new__', '__reduce__', '__reduce_ex__', '__repr__', '__setattr__', '__sizeof__', '__str__', '__subclasshook__', '__weakref__', 'say']\n",
      "Saying... ...\n",
      "['__class__', '__delattr__', '__dict__', '__dir__', '__doc__', '__eq__', '__format__', '__ge__', '__getattribute__', '__gt__', '__hash__', '__init__', '__init_subclass__', '__le__', '__lt__', '__module__', '__ne__', '__new__', '__reduce__', '__reduce_ex__', '__repr__', '__setattr__', '__sizeof__', '__str__', '__subclasshook__', '__weakref__', 'say']\n"
     ]
    }
   ],
   "source": [
    "class A():\n",
    "    pass\n",
    "\n",
    "def say(self):\n",
    "    print(\"Saying... ...\")\n",
    "    \n",
    "    \n",
    "A.say = say\n",
    "#print(A.__dict__)\n",
    "a = A()\n",
    "print(dir(a))\n",
    "#print(a.__dict__)\n",
    "a.say()\n",
    "\n",
    "a.say = say\n",
    "print(dir(a))\n",
    "#print(a.__dict__)\n",
    "#dir(a)\n",
    "\n"
   ]
  }
 ],
 "metadata": {
  "kernelspec": {
   "display_name": "Python 3",
   "language": "python",
   "name": "python3"
  },
  "language_info": {
   "codemirror_mode": {
    "name": "ipython",
    "version": 3
   },
   "file_extension": ".py",
   "mimetype": "text/x-python",
   "name": "python",
   "nbconvert_exporter": "python",
   "pygments_lexer": "ipython3",
   "version": "3.7.0"
  }
 },
 "nbformat": 4,
 "nbformat_minor": 2
}
