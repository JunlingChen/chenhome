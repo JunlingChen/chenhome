{
 "cells": [
  {
   "cell_type": "code",
   "execution_count": 13,
   "metadata": {},
   "outputs": [
    {
     "name": "stdout",
     "output_type": "stream",
     "text": [
      "[1, 2, 4, 3, 5, 9, 2, 4, 5, 3]\n",
      "<class 'list'>\n",
      "{1, 2, 3, 4, 5, 9}\n",
      "<class 'set'>\n",
      "1\n",
      "[1, 2, 4, 3, 5, 9, 2, 4, 5, 3]\n",
      "**********\n",
      "2\n",
      "a1是个重复项，数值为2\n",
      "[2]\n",
      "[1, 2, 4, 3, 5, 9, 2, 4, 5, 3]\n",
      "**********\n",
      "4\n",
      "a2是个重复项，数值为4\n",
      "[2, 4]\n",
      "[1, 2, 4, 3, 5, 9, 2, 4, 5, 3]\n",
      "**********\n",
      "3\n",
      "a3是个重复项，数值为3\n",
      "[2, 4, 3]\n",
      "[1, 2, 4, 3, 5, 9, 2, 4, 5, 3]\n",
      "**********\n",
      "5\n",
      "a4是个重复项，数值为5\n",
      "[2, 4, 3, 5]\n",
      "[1, 2, 4, 3, 5, 9, 2, 4, 5, 3]\n",
      "**********\n",
      "9\n",
      "[1, 2, 4, 3, 5, 9, 2, 4, 5, 3]\n",
      "**********\n",
      "2\n",
      "[1, 2, 4, 3, 5, 9, 2, 4, 5, 3]\n",
      "**********\n",
      "4\n",
      "[1, 2, 4, 3, 5, 9, 2, 4, 5, 3]\n",
      "**********\n",
      "5\n",
      "[1, 2, 4, 3, 5, 9, 2, 4, 5, 3]\n",
      "**********\n",
      "3\n",
      "[1, 2, 4, 3, 5, 9, 2, 4, 5, 3]\n",
      "**********\n"
     ]
    }
   ],
   "source": [
    "a = [1, 2, 4, 3, 5, 9, 2, 4, 5, 3]\n",
    "b=set(a)\n",
    "print(a)\n",
    "print(type(a))\n",
    "print(b)\n",
    "print(type(b))\n",
    "\n",
    "index = 0\n",
    "e = []\n",
    "while index<len(a):\n",
    "    c = a[index]\n",
    "    print(c)\n",
    "    del(a[index])\n",
    "    d = set(a)\n",
    "    if len(b) == len(d):\n",
    "        if c not in e:\n",
    "            e.append(c)\n",
    "            print(\"a{0}是个重复项，数值为{1}\".format(index,c))\n",
    "            print(e)\n",
    "    \n",
    "    a.insert(index,c)\n",
    "    print(a)\n",
    "    print(\"*\"*10)\n",
    "    index+=1\n",
    "    \n"
   ]
  },
  {
   "cell_type": "code",
   "execution_count": 11,
   "metadata": {},
   "outputs": [
    {
     "name": "stdout",
     "output_type": "stream",
     "text": [
      "<class 'list'>\n"
     ]
    }
   ],
   "source": [
    "e = []\n",
    "print(type(e))"
   ]
  },
  {
   "cell_type": "code",
   "execution_count": 20,
   "metadata": {},
   "outputs": [
    {
     "name": "stdout",
     "output_type": "stream",
     "text": [
      "{'one': 1, 'two': 2, 'three': 3}\n",
      "<class 'dict'>\n",
      "626741605864\n",
      "dict_values([1, 2, 3])\n",
      "<class 'dict_values'>\n",
      "626744402952\n",
      "dict_keys(['one', 'two', 'three'])\n",
      "<class 'dict_keys'>\n",
      "626744403192\n",
      "['one', 'two', 'three']\n",
      "<class 'list'>\n",
      "626741585992\n"
     ]
    }
   ],
   "source": [
    "d = {\"one\":1, \"two\":2, \"three\":3}\n",
    "print(d)\n",
    "print(type(d))\n",
    "print(id(d))\n",
    "v = d.values()\n",
    "print(v)\n",
    "print(type(v))\n",
    "print(id(v))\n",
    "k = d.keys()\n",
    "\n",
    "print(k)\n",
    "print(type(k))\n",
    "print(id(k))\n",
    "key = list(k)\n",
    "print(key)\n",
    "print(type(key))\n",
    "print(id(key))\n",
    "\n"
   ]
  }
 ],
 "metadata": {
  "kernelspec": {
   "display_name": "Python 3",
   "language": "python",
   "name": "python3"
  },
  "language_info": {
   "codemirror_mode": {
    "name": "ipython",
    "version": 3
   },
   "file_extension": ".py",
   "mimetype": "text/x-python",
   "name": "python",
   "nbconvert_exporter": "python",
   "pygments_lexer": "ipython3",
   "version": "3.7.0"
  }
 },
 "nbformat": 4,
 "nbformat_minor": 2
}
