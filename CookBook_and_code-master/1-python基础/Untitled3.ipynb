{
 "cells": [
  {
   "cell_type": "code",
   "execution_count": 20,
   "metadata": {
    "scrolled": true
   },
   "outputs": [
    {
     "name": "stdout",
     "output_type": "stream",
     "text": [
      "告我说你的基本信息\n",
      "<class 'dict'>\n",
      "('name', 'chenjunling') * * * \n",
      "('arge', 18) * * * \n",
      "('lover', 'zhouhuan') * * * \n",
      "('work', 'loser') * * * \n"
     ]
    }
   ],
   "source": [
    "def chen(**kwargs):\n",
    "    '''\n",
    "    这是介绍人的函数\n",
    "    '''\n",
    "    print(\"告我说你的基本信息\")\n",
    "    print(type(kwargs))\n",
    "    for a in kwargs.items():\n",
    "        print(a, \"* \"*3,)\n",
    "chen(name=\"chenjunling\", arge=18, lover=\"zhouhuan\", work=\"loser\")\n",
    "    "
   ]
  },
  {
   "cell_type": "code",
   "execution_count": 21,
   "metadata": {},
   "outputs": [
    {
     "name": "stdout",
     "output_type": "stream",
     "text": [
      "Help on function chen in module __main__:\n",
      "\n",
      "chen(**kwargs)\n",
      "    这是介绍人的函数\n",
      "\n"
     ]
    },
    {
     "data": {
      "text/plain": [
       "'\\n    这是介绍人的函数\\n    '"
      ]
     },
     "execution_count": 21,
     "metadata": {},
     "output_type": "execute_result"
    }
   ],
   "source": [
    "help(chen)\n",
    "chen.__doc__"
   ]
  }
 ],
 "metadata": {
  "kernelspec": {
   "display_name": "Python 3",
   "language": "python",
   "name": "python3"
  },
  "language_info": {
   "codemirror_mode": {
    "name": "ipython",
    "version": 3
   },
   "file_extension": ".py",
   "mimetype": "text/x-python",
   "name": "python",
   "nbconvert_exporter": "python",
   "pygments_lexer": "ipython3",
   "version": "3.7.0"
  }
 },
 "nbformat": 4,
 "nbformat_minor": 2
}
