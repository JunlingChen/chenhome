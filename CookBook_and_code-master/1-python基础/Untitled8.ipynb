{
 "cells": [
  {
   "cell_type": "code",
   "execution_count": 6,
   "metadata": {},
   "outputs": [
    {
     "name": "stdout",
     "output_type": "stream",
     "text": [
      "[1, 3.1415926, 3, 4, 5, 6]\n",
      "[1, 3.1415926, 3, 4, 5, 6]\n",
      "490905816200\n",
      "490880245384\n",
      "490877193720\n",
      "490877193720\n",
      "[1, 3, 3, 4, 5, 6]\n",
      "[1, 3.1415926, 3, 4, 5, 6]\n",
      "140714292932416\n",
      "490877193720\n"
     ]
    }
   ],
   "source": [
    "a = [1, 3.1415926, 3, 4, 5, 6]\n",
    "b=a.copy()\n",
    "print(a)\n",
    "print(b)\n",
    "print(id(a))\n",
    "print(id(b))\n",
    "print(id(a[1]))\n",
    "print(id(b[1]))\n",
    "a[1]=3\n",
    "print(a)\n",
    "print(b)\n",
    "print(id(a[1]))\n",
    "print(id(b[1]))"
   ]
  },
  {
   "cell_type": "code",
   "execution_count": 7,
   "metadata": {},
   "outputs": [
    {
     "name": "stdout",
     "output_type": "stream",
     "text": [
      "(1,)\n",
      "<class 'tuple'>\n"
     ]
    }
   ],
   "source": [
    "t = 1,\n",
    "print(t)\n",
    "print(type(t))"
   ]
  },
  {
   "cell_type": "code",
   "execution_count": 10,
   "metadata": {},
   "outputs": [
    {
     "name": "stdout",
     "output_type": "stream",
     "text": [
      "[1, 2, 3, 4, 5, 6]\n",
      "490880061640\n",
      "[1, 2, 3, 4, 'chen', 5, 6]\n",
      "490880061640\n"
     ]
    }
   ],
   "source": [
    "a = [1, 2, 3, 4, 5, 6]\n",
    "print(a)\n",
    "print(id(a))\n",
    "a.insert(4, \"chen\")\n",
    "print(a)\n",
    "print(id(a))"
   ]
  },
  {
   "cell_type": "code",
   "execution_count": 11,
   "metadata": {},
   "outputs": [
    {
     "name": "stdout",
     "output_type": "stream",
     "text": [
      "(1, 2, 3, 4, 4)\n",
      "490905801480\n",
      "(5, 6, 7, 8)\n",
      "490906026056\n",
      "(1, 2, 3, 4, 4, 5, 6, 7, 8)\n",
      "490906071472\n"
     ]
    }
   ],
   "source": [
    "t1 = (1, 2, 3, 4, 4)\n",
    "t2 = (5, 6, 7, 8)\n",
    "t3 = t1 + t2\n",
    "print(t1)\n",
    "print(id(t1))\n",
    "print(t2)\n",
    "print(id(t2))\n",
    "print(t3)\n",
    "print(id(t3))"
   ]
  },
  {
   "cell_type": "code",
   "execution_count": 29,
   "metadata": {},
   "outputs": [
    {
     "name": "stdout",
     "output_type": "stream",
     "text": [
      "<class 'tuple'>\n",
      "1 2 3 \n",
      "<class 'tuple'>\n",
      "4 5 6 \n",
      "<class 'tuple'>\n",
      "chen jun ling zui bang \n"
     ]
    }
   ],
   "source": [
    "indx = 0\n",
    "t = ((1, 2, 3), (4, 5, 6), (\"chen\", \"jun\", \"ling\", \"zui\", \"bang\"))\n",
    "for i in t:\n",
    "    print(type(t[indx]))\n",
    "    for j in t[indx]:\n",
    "        print(j, end = \" \")\n",
    "    print(end = \"\\n\")\n",
    "    indx+=1\n",
    "    \n",
    "        "
   ]
  },
  {
   "cell_type": "code",
   "execution_count": 14,
   "metadata": {},
   "outputs": [
    {
     "ename": "TypeError",
     "evalue": "'tuple' object is not callable",
     "output_type": "error",
     "traceback": [
      "\u001b[1;31m---------------------------------------------------------------------------\u001b[0m",
      "\u001b[1;31mTypeError\u001b[0m                                 Traceback (most recent call last)",
      "\u001b[1;32m<ipython-input-14-bbf4e5ae37c5>\u001b[0m in \u001b[0;36m<module>\u001b[1;34m()\u001b[0m\n\u001b[0;32m      1\u001b[0m \u001b[0mindx\u001b[0m \u001b[1;33m=\u001b[0m \u001b[1;36m0\u001b[0m\u001b[1;33m\u001b[0m\u001b[0m\n\u001b[0;32m      2\u001b[0m \u001b[0mt\u001b[0m \u001b[1;33m=\u001b[0m \u001b[1;33m(\u001b[0m\u001b[1;33m(\u001b[0m\u001b[1;36m1\u001b[0m\u001b[1;33m,\u001b[0m \u001b[1;36m2\u001b[0m\u001b[1;33m,\u001b[0m \u001b[1;36m3\u001b[0m\u001b[1;33m)\u001b[0m\u001b[1;33m,\u001b[0m \u001b[1;33m(\u001b[0m\u001b[1;36m4\u001b[0m\u001b[1;33m,\u001b[0m \u001b[1;36m5\u001b[0m\u001b[1;33m,\u001b[0m \u001b[1;36m6\u001b[0m\u001b[1;33m)\u001b[0m\u001b[1;33m,\u001b[0m \u001b[1;33m(\u001b[0m\u001b[1;34m\"chen\"\u001b[0m\u001b[1;33m,\u001b[0m \u001b[1;34m\"jun\"\u001b[0m\u001b[1;33m,\u001b[0m \u001b[1;34m\"ling\"\u001b[0m\u001b[1;33m)\u001b[0m\u001b[1;33m)\u001b[0m\u001b[1;33m\u001b[0m\u001b[0m\n\u001b[1;32m----> 3\u001b[1;33m \u001b[0mprint\u001b[0m\u001b[1;33m(\u001b[0m\u001b[0mt\u001b[0m\u001b[1;33m(\u001b[0m\u001b[1;36m0\u001b[0m\u001b[1;33m)\u001b[0m\u001b[1;33m)\u001b[0m\u001b[1;33m\u001b[0m\u001b[0m\n\u001b[0m",
      "\u001b[1;31mTypeError\u001b[0m: 'tuple' object is not callable"
     ]
    }
   ],
   "source": [
    "indx = 0\n",
    "t = ((1, 2, 3), (4, 5, 6), (\"chen\", \"jun\", \"ling\"))\n",
    "print(t(0))"
   ]
  },
  {
   "cell_type": "code",
   "execution_count": null,
   "metadata": {},
   "outputs": [],
   "source": []
  }
 ],
 "metadata": {
  "kernelspec": {
   "display_name": "Python 3",
   "language": "python",
   "name": "python3"
  },
  "language_info": {
   "codemirror_mode": {
    "name": "ipython",
    "version": 3
   },
   "file_extension": ".py",
   "mimetype": "text/x-python",
   "name": "python",
   "nbconvert_exporter": "python",
   "pygments_lexer": "ipython3",
   "version": "3.7.0"
  }
 },
 "nbformat": 4,
 "nbformat_minor": 2
}
