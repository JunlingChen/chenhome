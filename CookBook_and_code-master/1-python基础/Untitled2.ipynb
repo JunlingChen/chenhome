{
 "cells": [
  {
   "cell_type": "code",
   "execution_count": 14,
   "metadata": {},
   "outputs": [
    {
     "name": "stdout",
     "output_type": "stream",
     "text": [
      "我叫cjl，我今年27岁了\n"
     ]
    }
   ],
   "source": [
    "def func(age=18, name=\"cjl\"):\n",
    "    print(\"我叫{1}，我今年{0}岁了\".format(age, name))\n",
    "\n",
    "    \n",
    "a=27\n",
    "n=\"chenjun\"\n",
    "func(age=a)"
   ]
  }
 ],
 "metadata": {
  "kernelspec": {
   "display_name": "Python 3",
   "language": "python",
   "name": "python3"
  },
  "language_info": {
   "codemirror_mode": {
    "name": "ipython",
    "version": 3
   },
   "file_extension": ".py",
   "mimetype": "text/x-python",
   "name": "python",
   "nbconvert_exporter": "python",
   "pygments_lexer": "ipython3",
   "version": "3.7.0"
  }
 },
 "nbformat": 4,
 "nbformat_minor": 2
}
