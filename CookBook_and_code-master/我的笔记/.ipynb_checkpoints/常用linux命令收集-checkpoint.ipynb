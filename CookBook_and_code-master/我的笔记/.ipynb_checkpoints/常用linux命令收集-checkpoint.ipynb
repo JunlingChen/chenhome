{
 "cells": [
  {
   "cell_type": "markdown",
   "metadata": {},
   "source": [
    "# 常用linux命令\n",
    " \n",
    "## 获取超级系统权限\n",
    " - sudo su\n",
    " \n",
    "## 安装git：\n",
    " - apt-get install git:直接安装git\n",
    " - aptitude search git:搜索与git相关的程序包\n",
    " - aptitude show git:展示git详细信息\n",
    " - aptitude install git:直接安装git\n",
    " - git:获取git相关参数，命令，帮助\n",
    "\n",
    "## git的使用\n",
    " - 创建文件夹：mkdir XXX\n",
    " - 到某个文件夹下：cd XXX\n",
    " - 初始化某个文件夹，创建本地仓库：git init\n",
    " - 显示隐藏的文件夹：ll -a\n",
    " - 显示文件夹具体内容：ll -a ./.git\n",
    " - 创建文件：touch XXX.格式 例如：touch one.txt\n",
    " - 进入文件的相关编辑（vi 命令）：\n",
    "  - vi 文件名：进入某个文件，处于命令模式 例如：vi one.txt\n",
    "  - i：进入编辑模式，可以对文件进行相应编辑\n",
    "  - ESC：退出编辑模式进入命令模式\n",
    "  - :x ：保存编辑并退出\n",
    "  - :q ：退出编辑，如果文本内容被修改过，则会报错\n",
    "  - :q! : 强制退出编辑，如果文本内容被修改过，会丢弃此次的修改\n",
    " \n",
    " "
   ]
  }
 ],
 "metadata": {
  "kernelspec": {
   "display_name": "Python 3",
   "language": "python",
   "name": "python3"
  },
  "language_info": {
   "codemirror_mode": {
    "name": "ipython",
    "version": 3
   },
   "file_extension": ".py",
   "mimetype": "text/x-python",
   "name": "python",
   "nbconvert_exporter": "python",
   "pygments_lexer": "ipython3",
   "version": "3.7.0"
  }
 },
 "nbformat": 4,
 "nbformat_minor": 2
}
