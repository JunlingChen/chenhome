{
 "cells": [
  {
   "cell_type": "code",
   "execution_count": 4,
   "metadata": {},
   "outputs": [
    {
     "name": "stdout",
     "output_type": "stream",
     "text": [
      "chenjun love zhouhuan\n"
     ]
    }
   ],
   "source": [
    "s1 = \"chenjun love\"\n",
    "s2 = \"zhouhuan\"\n",
    "s = s1+\" \"+s2\n",
    "print(s)\n"
   ]
  },
  {
   "cell_type": "code",
   "execution_count": 20,
   "metadata": {},
   "outputs": [
    {
     "name": "stdout",
     "output_type": "stream",
     "text": [
      "h\n",
      "n\n",
      "enju\n",
      "ej\n",
      "nauhuohz e\n",
      "ve zhouhua\n"
     ]
    }
   ],
   "source": [
    "s = \"chenjun love zhouhuan\"\n",
    "a = s[1]\n",
    "b = s[-1]\n",
    "print(a)\n",
    "print(b)\n",
    "c = s[2:6]\n",
    "print(c)\n",
    "c = s[2:6:2]\n",
    "print(c)\n",
    "c = s[-1:-11:-1]\n",
    "print(c)\n",
    "c = s[-11:-1]\n",
    "print(c)"
   ]
  },
  {
   "cell_type": "code",
   "execution_count": 28,
   "metadata": {
    "scrolled": true
   },
   "outputs": [
    {
     "name": "stdout",
     "output_type": "stream",
     "text": [
      "chen *(T^#&^@&&)\n",
      "537224437240\n",
      "chen *(T^#&^@&&)\n",
      "537224437240\n",
      "22222\n",
      "537224402624\n",
      "chen *(T^#&^@&&)\n",
      "537224437240\n"
     ]
    }
   ],
   "source": [
    "s = \"chen *(T^#&^@&&)\"\n",
    "print(s)\n",
    "print(id(s))\n",
    "a = s[:]\n",
    "print(a)\n",
    "print(id(a))\n",
    "s = \"22222\"\n",
    "print(s)\n",
    "print(id(s))\n",
    "\n",
    "print(a)\n",
    "print(id(a))"
   ]
  },
  {
   "cell_type": "code",
   "execution_count": 31,
   "metadata": {},
   "outputs": [
    {
     "name": "stdout",
     "output_type": "stream",
     "text": [
      "I love zhouhuan\n"
     ]
    }
   ],
   "source": [
    "# capitalize首字母大写，其余小写，返回字符串\n",
    "s = \"i love Zhouhuan\"\n",
    "print(s.capitalize())"
   ]
  },
  {
   "cell_type": "code",
   "execution_count": 32,
   "metadata": {},
   "outputs": [
    {
     "name": "stdout",
     "output_type": "stream",
     "text": [
      "I Love Wangxiaojing\n"
     ]
    }
   ],
   "source": [
    "# title()  将每个单词的首字母变为大写   返回的是字符串\n",
    "\n",
    "s = \"i love wangXIAOJING\"\n",
    "\n",
    "s1 = s.title()\n",
    "print(s1)"
   ]
  },
  {
   "cell_type": "code",
   "execution_count": 33,
   "metadata": {},
   "outputs": [
    {
     "name": "stdout",
     "output_type": "stream",
     "text": [
      "CHENJUN LOVE ZHOUHUAN\n"
     ]
    }
   ],
   "source": [
    "# upper()  将所有字母变为大写字母     返回的是字符串\n",
    "s = \"chenjun love ZHOUHUAN\"\n",
    "print(s.upper())"
   ]
  }
 ],
 "metadata": {
  "kernelspec": {
   "display_name": "Python 3",
   "language": "python",
   "name": "python3"
  },
  "language_info": {
   "codemirror_mode": {
    "name": "ipython",
    "version": 3
   },
   "file_extension": ".py",
   "mimetype": "text/x-python",
   "name": "python",
   "nbconvert_exporter": "python",
   "pygments_lexer": "ipython3",
   "version": "3.7.0"
  }
 },
 "nbformat": 4,
 "nbformat_minor": 2
}
