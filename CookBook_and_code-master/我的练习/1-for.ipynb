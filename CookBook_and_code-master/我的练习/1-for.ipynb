{
 "cells": [
  {
   "cell_type": "code",
   "execution_count": 3,
   "metadata": {},
   "outputs": [
    {
     "name": "stdout",
     "output_type": "stream",
     "text": [
      "* * * * * \n",
      "* * * * * \n",
      "* * * * * \n",
      "* * * * * \n",
      "* * * * * \n"
     ]
    }
   ],
   "source": [
    "# 简单图形打印\n",
    "\"\"\"\n",
    " 打印图形在输出上\n",
    "* * * * *\n",
    "* * * * *\n",
    "* * * * *\n",
    "* * * * *\n",
    "* * * * *\n",
    "\"\"\"\n",
    "for i in range(0,5):\n",
    "    print(\"* \"*5)\n"
   ]
  },
  {
   "cell_type": "code",
   "execution_count": 6,
   "metadata": {},
   "outputs": [
    {
     "name": "stdout",
     "output_type": "stream",
     "text": [
      "* * * * * \n",
      "* * * * * \n",
      "* * * * * \n",
      "* * * * * \n",
      "* * * * * \n"
     ]
    }
   ],
   "source": [
    "for i in range(0,5):\n",
    "    for j in range(0,5):\n",
    "        print(\"* \",end = \"\")\n",
    "    print()"
   ]
  },
  {
   "cell_type": "code",
   "execution_count": 11,
   "metadata": {},
   "outputs": [
    {
     "name": "stdout",
     "output_type": "stream",
     "text": [
      "0\n",
      "1\n",
      "2\n",
      "3\n",
      "4\n"
     ]
    }
   ],
   "source": [
    "for i in range(5):\n",
    "    print(i)"
   ]
  },
  {
   "cell_type": "code",
   "execution_count": 16,
   "metadata": {},
   "outputs": [
    {
     "name": "stdout",
     "output_type": "stream",
     "text": [
      "* * * * * \n",
      "*       *\n",
      "*       *\n",
      "* * * * * \n"
     ]
    }
   ],
   "source": [
    "# 打印以下图形\n",
    "\"\"\"\n",
    "* * * * *\n",
    "*       *\n",
    "*       *\n",
    "* * * * *\n",
    "\"\"\"\n",
    "print(\"* \"*5)\n",
    "print(\"*       *\")\n",
    "print(\"*       *\")\n",
    "print(\"* \"*5)\n"
   ]
  },
  {
   "cell_type": "code",
   "execution_count": 18,
   "metadata": {},
   "outputs": [
    {
     "name": "stdout",
     "output_type": "stream",
     "text": [
      "* * * * * \n",
      "*       *\n",
      "*       *\n",
      "* * * * * \n"
     ]
    }
   ],
   "source": [
    "for i in range(4):\n",
    "    if i == 0 or i == 3:\n",
    "        print(\"* \"*5)\n",
    "    if i == 1 or i == 2:\n",
    "        print(\"*       *\")\n"
   ]
  },
  {
   "cell_type": "code",
   "execution_count": 20,
   "metadata": {},
   "outputs": [
    {
     "name": "stdout",
     "output_type": "stream",
     "text": [
      "* \n",
      "* * \n",
      "* * * \n",
      "* * * * \n",
      "* * * * * \n"
     ]
    }
   ],
   "source": [
    "# 打印三角形\n",
    "\"\"\"\n",
    "* \n",
    "* *\n",
    "* * *\n",
    "* * * *\n",
    "* * * * *\n",
    "\"\"\"\n",
    "for i in range(5):\n",
    "    for j in range(i+1):\n",
    "        print(\"* \", end=\"\")\n",
    "    print()"
   ]
  },
  {
   "cell_type": "code",
   "execution_count": 22,
   "metadata": {},
   "outputs": [
    {
     "name": "stdout",
     "output_type": "stream",
     "text": [
      "* \n",
      "* * \n",
      "*   * \n",
      "*     * \n",
      "* * * * * \n"
     ]
    }
   ],
   "source": [
    "# 打印空心三角形\n",
    "\"\"\"\n",
    "*\n",
    "* *\n",
    "*   *\n",
    "*     *\n",
    "* * * * *\n",
    "\"\"\"\n",
    "for i in range(5):\n",
    "    if i == 0 or i == 4:\n",
    "        print(\"* \"*(i+1))\n",
    "    else:\n",
    "        print(\"* \", end=\"\") \n",
    "        print(\"  \"*(i-1), end=\"\")\n",
    "        print(\"* \")\n",
    "        "
   ]
  },
  {
   "cell_type": "code",
   "execution_count": 23,
   "metadata": {},
   "outputs": [
    {
     "name": "stdout",
     "output_type": "stream",
     "text": [
      "* \n",
      "* * \n",
      "*   * \n",
      "*     * \n",
      "* * * * * \n"
     ]
    }
   ],
   "source": [
    "for i in range(5):\n",
    "    if i == 0 or i == 4:\n",
    "        print(\"* \"*(i+1))\n",
    "    else:\n",
    "        print(\"* \", end=\"\") \n",
    "        print(\"  \"*(i-1), end=\"\")\n",
    "        print(\"* \")"
   ]
  },
  {
   "cell_type": "code",
   "execution_count": 26,
   "metadata": {},
   "outputs": [],
   "source": [
    "print(\"  \"*-1, end=\"\")"
   ]
  },
  {
   "cell_type": "code",
   "execution_count": 29,
   "metadata": {},
   "outputs": [
    {
     "name": "stdout",
     "output_type": "stream",
     "text": [
      "* * * * * \n",
      "* * * * \n",
      "* * * \n",
      "* * \n",
      "* \n"
     ]
    }
   ],
   "source": [
    "# 打印倒立三角\n",
    "'''\n",
    "* * * * * \n",
    "* * * * \n",
    "* * * \n",
    "* * \n",
    "* \n",
    "'''\n",
    "for i in range(5):\n",
    "    print(\"* \"*(5-i))"
   ]
  },
  {
   "cell_type": "code",
   "execution_count": 31,
   "metadata": {},
   "outputs": [
    {
     "name": "stdout",
     "output_type": "stream",
     "text": [
      "* * * * * * * * * \n",
      "* * * * * * * * \n",
      "* * * * * * * \n",
      "* * * * * * \n",
      "* * * * * \n",
      "* * * * \n",
      "* * * \n",
      "* * \n",
      "* \n"
     ]
    }
   ],
   "source": [
    "for i in range(9):\n",
    "    for j in range(9-i):\n",
    "        print(\"* \", end=\"\")\n",
    "    print()"
   ]
  },
  {
   "cell_type": "code",
   "execution_count": 33,
   "metadata": {},
   "outputs": [
    {
     "name": "stdout",
     "output_type": "stream",
     "text": [
      "    * \n",
      "   * * \n",
      "  * * * \n",
      " * * * * \n",
      "* * * * * \n"
     ]
    }
   ],
   "source": [
    "# 打印三角形，正三角形\n",
    "'''\n",
    "    * \n",
    "   * * \n",
    "  * * * \n",
    " * * * * \n",
    "* * * * * \n",
    "'''\n",
    "for i in range(5):\n",
    "    print((\" \"*(4-i))+(\"* \"*(i+1)))"
   ]
  },
  {
   "cell_type": "code",
   "execution_count": 34,
   "metadata": {},
   "outputs": [
    {
     "name": "stdout",
     "output_type": "stream",
     "text": [
      "* \n",
      "* * \n",
      "*   * \n",
      "*     * \n",
      "* * * * * \n"
     ]
    }
   ],
   "source": [
    "for i in range(5):\n",
    "    if i == 0 or i == 4:\n",
    "        print(\"* \"*(i+1))\n",
    "    else:\n",
    "        print(\"* \"+\"  \"*(i-1)+\"* \") \n",
    "        "
   ]
  },
  {
   "cell_type": "code",
   "execution_count": 4,
   "metadata": {},
   "outputs": [
    {
     "name": "stdout",
     "output_type": "stream",
     "text": [
      "    *\n",
      "   * *\n",
      "  *   *\n",
      " *     *\n",
      "* * * * * \n"
     ]
    }
   ],
   "source": [
    "# 打印空三角\n",
    "'''\n",
    "    * \n",
    "   * * \n",
    "  *   * \n",
    " *     * \n",
    "* * * * * \n",
    "'''\n",
    "for i in range(5):\n",
    "    if i == 0:\n",
    "        print(\"    *\")\n",
    "        continue\n",
    "    if i == 4:\n",
    "        print(\"* \"*5)\n",
    "        continue\n",
    "    else:   \n",
    "        print(\" \"*(4-i)+\"*\"+\" \"*(2*i-1)+\"*\")"
   ]
  }
 ],
 "metadata": {
  "kernelspec": {
   "display_name": "Python 3",
   "language": "python",
   "name": "python3"
  },
  "language_info": {
   "codemirror_mode": {
    "name": "ipython",
    "version": 3
   },
   "file_extension": ".py",
   "mimetype": "text/x-python",
   "name": "python",
   "nbconvert_exporter": "python",
   "pygments_lexer": "ipython3",
   "version": "3.7.0"
  }
 },
 "nbformat": 4,
 "nbformat_minor": 2
}
